{
  "nbformat": 4,
  "nbformat_minor": 0,
  "metadata": {
    "colab": {
      "name": "Colab Github Tutorial.ipynb",
      "version": "0.3.2",
      "provenance": [],
      "include_colab_link": true
    },
    "kernelspec": {
      "name": "python3",
      "display_name": "Python 3"
    }
  },
  "cells": [
    {
      "cell_type": "markdown",
      "metadata": {
        "id": "view-in-github",
        "colab_type": "text"
      },
      "source": [
        "<a href=\"https://colab.research.google.com/github/rahul-kewat/Machine-Learning-with-Rahul-Kewat/blob/master/Colab_Github_Tutorial.ipynb\" target=\"_parent\"><img src=\"https://colab.research.google.com/assets/colab-badge.svg\" alt=\"Open In Colab\"/></a>"
      ]
    },
    {
      "cell_type": "markdown",
      "metadata": {
        "id": "90bPTm2qKVjh",
        "colab_type": "text"
      },
      "source": [
        "**Please subscribe to our channel (Rahul Kewat)**"
      ]
    },
    {
      "cell_type": "code",
      "metadata": {
        "id": "W7i1PWhNaQ19",
        "colab_type": "code",
        "colab": {}
      },
      "source": [
        "# In this video tutorial you will see how to save a copy of your colab code to github account\n",
        "# 1. Go to File Menu\n",
        "# 2. Click on Sava a copy in Github\n",
        "# 3. Choose your repository"
      ],
      "execution_count": 0,
      "outputs": []
    }
  ]
}